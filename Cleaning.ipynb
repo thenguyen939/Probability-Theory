{
 "cells": [
  {
   "cell_type": "code",
   "execution_count": 3,
   "id": "11c6e097",
   "metadata": {},
   "outputs": [],
   "source": [
    "import numpy as np\n",
    "import pandas as pd"
   ]
  },
  {
   "cell_type": "code",
   "execution_count": 1,
   "id": "013f3747",
   "metadata": {},
   "outputs": [],
   "source": [
    "import matplotlib.pyplot as plt\n",
    "import sklearn "
   ]
  },
  {
   "cell_type": "markdown",
   "id": "b4088a62",
   "metadata": {},
   "source": [
    "# Các lỗi với dữ liệu cần làm sạch "
   ]
  },
  {
   "cell_type": "markdown",
   "id": "bfe61a4d",
   "metadata": {},
   "source": [
    "## Dữ liệu bị thiếu "
   ]
  },
  {
   "cell_type": "code",
   "execution_count": 4,
   "id": "21cfb5be",
   "metadata": {},
   "outputs": [
    {
     "name": "stdout",
     "output_type": "stream",
     "text": [
      "      Name   Age Gender   Salary\n",
      "0    Alice  25.0      F  50000.0\n",
      "1      Bob   NaN      M  60000.0\n",
      "2  Charlie  30.0    NaN  55000.0\n",
      "3    David  22.0      M      NaN\n",
      "4      Eve   NaN      F  52000.0\n"
     ]
    }
   ],
   "source": [
    "data = {\n",
    "    'Name': ['Alice', 'Bob', 'Charlie', 'David', 'Eve'],\n",
    "    'Age': [25, np.nan, 30, 22, np.nan],\n",
    "    'Gender': ['F', 'M', np.nan, 'M', 'F'],\n",
    "    'Salary': [50000, 60000, 55000, np.nan, 52000]\n",
    "}\n",
    "\n",
    "df = pd.DataFrame(data)\n",
    "print(df)"
   ]
  },
  {
   "cell_type": "code",
   "execution_count": 7,
   "id": "9fcffc8b",
   "metadata": {},
   "outputs": [],
   "source": [
    "# Kiểm tra các cột có dữ liệu bị thiếu trong bảng \n",
    "df2=df.isnull().sum()"
   ]
  },
  {
   "cell_type": "code",
   "execution_count": 8,
   "id": "b5f8f07f",
   "metadata": {},
   "outputs": [
    {
     "data": {
      "text/plain": [
       "pandas.core.series.Series"
      ]
     },
     "execution_count": 8,
     "metadata": {},
     "output_type": "execute_result"
    }
   ],
   "source": [
    "type(df2)"
   ]
  },
  {
   "cell_type": "code",
   "execution_count": 16,
   "id": "18c0a64c",
   "metadata": {},
   "outputs": [
    {
     "data": {
      "text/plain": [
       "pandas.core.series.Series"
      ]
     },
     "execution_count": 16,
     "metadata": {},
     "output_type": "execute_result"
    }
   ],
   "source": [
    "type(df.isnull().sum()>0)"
   ]
  },
  {
   "cell_type": "code",
   "execution_count": 13,
   "id": "54d54149",
   "metadata": {},
   "outputs": [
    {
     "data": {
      "text/plain": [
       "Age       2\n",
       "Gender    1\n",
       "Salary    1\n",
       "dtype: int64"
      ]
     },
     "execution_count": 13,
     "metadata": {},
     "output_type": "execute_result"
    }
   ],
   "source": [
    "df.isnull().sum()[df.isnull().sum()>0]"
   ]
  },
  {
   "cell_type": "code",
   "execution_count": 17,
   "id": "fe674888",
   "metadata": {},
   "outputs": [
    {
     "data": {
      "text/plain": [
       "Age       2\n",
       "Gender    1\n",
       "Salary    1\n",
       "dtype: int64"
      ]
     },
     "execution_count": 17,
     "metadata": {},
     "output_type": "execute_result"
    }
   ],
   "source": [
    "df.isnull().sum()[df.isnull().sum()>0]"
   ]
  },
  {
   "cell_type": "code",
   "execution_count": 18,
   "id": "90c7d9ed",
   "metadata": {},
   "outputs": [],
   "source": [
    "from sklearn.base import BaseEstimator, TransformerMixin"
   ]
  },
  {
   "cell_type": "code",
   "execution_count": null,
   "id": "22b5bb6a",
   "metadata": {},
   "outputs": [],
   "source": [
    "# Viết các hàm để xử lý giá trị bị thiếu \n",
    "# Hàm số 1: Dữ liệu bị thiếu quá nhiều thì bỏ cột (dùng cho cả categories và num)\n",
    "class DropHighMisssingColumns(BaseEstimator, TransformerMixin):\n",
    "    def __init__(self, threshold=0.5):\n",
    "        self.threshold=threshold\n",
    "        self.columns_to_drop=[]\n",
    "    def fit(self, X, y=None):\n",
    "        missing_ratio=X.isnull().mean()\n",
    "        self.columns_to_drop=missing_ratio[missing_ratio>self.threshold].index.tolist()\n",
    "        return self\n",
    "    def transform(self, X, y=None):\n",
    "        return X.drop(columns=self.columns_to_drop, errors='ignore')"
   ]
  },
  {
   "cell_type": "code",
   "execution_count": 19,
   "id": "3c6cc4b8",
   "metadata": {},
   "outputs": [],
   "source": [
    "class DropHighMissingColumns(BaseEstimator, TransformerMixin):\n",
    "    def __init__(self, threshold=0.5):\n",
    "        self.threshold=threshold\n",
    "        self.columns_to_drop=[]\n",
    "    def fit(self, X, y=None):\n",
    "        missing_ratio=X.isnull().mean()\n",
    "        self.columns_to_drop=missing_ratio[missing_ratio>self.threshold].index.tolist()\n",
    "        return self\n",
    "    def transform(self, X, y=None):\n",
    "        return X.drop(columns=self.columns_to_drop)\n"
   ]
  },
  {
   "cell_type": "code",
   "execution_count": 20,
   "id": "ee60d6f1",
   "metadata": {},
   "outputs": [],
   "source": [
    "# Viết hàm số 2: Xử lý giá trị bị thiếu cho dữ liẹu categories, thay giá trị bị thiếu bằng mode \n",
    "class ImputeMissingMode(BaseEstimator, TransformerMixin):\n",
    "    def __init__(self, columns):\n",
    "        self.columns=columns\n",
    "        self.fill_values={}\n",
    "    def fit(self, X,y=None):\n",
    "        for column in self.columns:\n",
    "            self.fill_values[column]=X[column].mode().iloc[0]\n",
    "        return self\n",
    "    def transform(self, X, y=None):\n",
    "        X2=X.copy()\n",
    "        for column, values in self.fill_values.item():\n",
    "            X2[column]=X2[column].fillna(values)\n",
    "        return X2\n",
    "\n"
   ]
  },
  {
   "cell_type": "code",
   "execution_count": 21,
   "id": "9cd8f835",
   "metadata": {},
   "outputs": [],
   "source": [
    "# Viết hàm xử lý số 2, hàm bị thiếu cho dữ liệu dạng categories, thay bằng mode\n",
    "class ImputeMissingByMode(BaseEstimator, TransformerMixin):\n",
    "    def __init__(self, columns):\n",
    "        self.columns=columns\n",
    "        self.fill_values={}\n",
    "    def fit(self, X, y=None):\n",
    "        for column in self.columns:\n",
    "            self.fill_values[column]=X[column].mode().iloc[0]\n",
    "    def transform(self, X, y=None):\n",
    "        X2=X.copy()\n",
    "        for column, value in self.fill_values.item():\n",
    "            X2[column]=X2[column].fillna(value)\n",
    "        return X2\n"
   ]
  },
  {
   "cell_type": "code",
   "execution_count": null,
   "id": "85ce3962",
   "metadata": {},
   "outputs": [],
   "source": [
    "# Viết hàm xử lý số 3, thay thế giá trị bị thiếu bằng mean/ median\n",
    "class ImputeMissingByMean(BaseEstimator, TransformerMixin):\n",
    "    def __init__(self, columns, mode):\n",
    "        self.columns=columns\n",
    "        self.fill_values={}\n",
    "        self.mode=mode\n",
    "    def fit(self, X,y=None):\n",
    "        for column in self.columns:\n",
    "            if self.mode=='mean':\n",
    "                self.fill_values[column]=X[column].mean()\n",
    "            if self.mode=='median':\n",
    "                self.fill_values[column]=X[column].median()\n",
    "    def transform(self, X, y=None):\n",
    "        X2=X.copy()\n",
    "        for column, value in self.fill_values.item():\n",
    "            X2[column]=X2[column].fillna(value)\n",
    "        return X2"
   ]
  },
  {
   "cell_type": "markdown",
   "id": "38977150",
   "metadata": {},
   "source": [
    "# Loại bỏ Outlier trong dữ liệu"
   ]
  },
  {
   "cell_type": "code",
   "execution_count": 22,
   "id": "55885971",
   "metadata": {},
   "outputs": [],
   "source": [
    "# Phát hiện Outlier trong dữ liệu \n",
    "class OutlierTransformByBound1(BaseEstimator, TransformerMixin):\n",
    "    def __init__(self, columns):\n",
    "        self.columns=columns\n",
    "        self.bounds={}\n",
    "    def fit(self, X, y=None):\n",
    "        for column in self.columns: \n",
    "            Q1=X[column].quantitle(0.25)\n",
    "            Q3=X[column].quantitle(0.75)\n",
    "            IQR=Q3-Q1\n",
    "            lower=Q1-1.5*IQR\n",
    "            upper=Q3+1.5*IQR\n",
    "            self.bounds[column]=(lower, upper)\n",
    "        return self\n",
    "    \n",
    "    def transform(self, X, y=None):\n",
    "        X2=X.copy()\n",
    "        for column, (lower, upper) in self.bounds:\n",
    "            X2[column]=np.where(X2[column]<lower, lower, X2[column]>upper, upper)\n",
    "        return X2\n",
    "\n",
    "\n"
   ]
  },
  {
   "cell_type": "code",
   "execution_count": 23,
   "id": "c2bfe13b",
   "metadata": {},
   "outputs": [],
   "source": [
    "class OutlierTransformByBound2(BaseEstimator, TransformerMixin):\n",
    "    def __init__(self, columns):\n",
    "        self.columns=columns\n",
    "        self.bounds={}\n",
    "    def fit(self, X,y=None):\n",
    "        for column in self.columns:\n",
    "            mean=X[column].mean()\n",
    "            std=X[column].std()\n",
    "            self.bounds[column]=(mean, std)\n",
    "        return self\n",
    "    def transform(self, X, y=None):\n",
    "        X2=X.copy()\n",
    "        for column, (mean, std) in self.bounds:\n",
    "            X2[column]=np.where(X2[column]<mean-3*std, mean-3*std, X2[column]>mean+3*std, mean+3*std)\n",
    "        return X2"
   ]
  },
  {
   "cell_type": "code",
   "execution_count": null,
   "id": "7a73f7e0",
   "metadata": {},
   "outputs": [],
   "source": []
  },
  {
   "cell_type": "code",
   "execution_count": null,
   "id": "999278fb",
   "metadata": {},
   "outputs": [],
   "source": []
  },
  {
   "cell_type": "code",
   "execution_count": null,
   "id": "8b4c757b",
   "metadata": {},
   "outputs": [],
   "source": []
  },
  {
   "cell_type": "code",
   "execution_count": null,
   "id": "0a6d3a2a",
   "metadata": {},
   "outputs": [],
   "source": []
  },
  {
   "cell_type": "code",
   "execution_count": null,
   "id": "53cf1a37",
   "metadata": {},
   "outputs": [],
   "source": []
  }
 ],
 "metadata": {
  "kernelspec": {
   "display_name": "base",
   "language": "python",
   "name": "python3"
  },
  "language_info": {
   "codemirror_mode": {
    "name": "ipython",
    "version": 3
   },
   "file_extension": ".py",
   "mimetype": "text/x-python",
   "name": "python",
   "nbconvert_exporter": "python",
   "pygments_lexer": "ipython3",
   "version": "3.11.5"
  }
 },
 "nbformat": 4,
 "nbformat_minor": 5
}
